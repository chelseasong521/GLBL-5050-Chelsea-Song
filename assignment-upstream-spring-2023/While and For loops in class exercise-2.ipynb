{
 "cells": [
  {
   "cell_type": "markdown",
   "metadata": {},
   "source": [
    "## Given the following list, use a for loop and a while loop to return a list without Monopoly"
   ]
  },
  {
   "cell_type": "code",
   "execution_count": null,
   "metadata": {},
   "outputs": [],
   "source": [
    "board_games =['Life','Monopoly', 'Sorry', 'Monopoly', 'Risk', 'Stratego', 'Monopoly']"
   ]
  },
  {
   "cell_type": "code",
   "execution_count": null,
   "metadata": {},
   "outputs": [],
   "source": [
    "# for loop code here:"
   ]
  },
  {
   "cell_type": "code",
   "execution_count": null,
   "metadata": {},
   "outputs": [],
   "source": [
    "# while loop code here:"
   ]
  },
  {
   "cell_type": "markdown",
   "metadata": {},
   "source": [
    "## Using a loop skip any lines that are comments in the file_contents list below. Comment lines are denoted by the '#' as the first character. \n",
    "\n",
    "If the line is not a comment line print out the date once until it changes. Underneath that date print out each time entry and the reading for that time. (format for non-comment lines are <'date time reading'>."
   ]
  },
  {
   "cell_type": "code",
   "execution_count": null,
   "metadata": {},
   "outputs": [],
   "source": [
    "file_contents = ['# This is a file that records', '# Entries every 15 minutes from a meter', '# Property of p36'\n",
    "                 '# Next lines are from 10-11', '5-20-2018 1000 15', '5-20-2018 1015 16', '5-20-2018 1030 14', \n",
    "                 '5-20-2018 1045 -', '# Next lines are from 11-12', '5-20-2018 1100 12', '5-20-2018 1115 10', \n",
    "                 '5-20-2018 1130 12', '5-20-2018 1145 18', '# Next lines are from 12-1', \n",
    "                 '5-21-2018 1200 12', '5-21-2018 1215 15',]\n",
    "\n",
    "# Your code here\n",
    "\n"
   ]
  },
  {
   "cell_type": "markdown",
   "metadata": {},
   "source": [
    "## Nested for loops\n",
    "\n",
    "#### Write a loop within a loop to print the following:\n",
    "Enchanting process,\n",
    "\n",
    "Inviting warm scenery,\n",
    "\n",
    "Beautiful wisdom.\n",
    "\n"
   ]
  },
  {
   "cell_type": "code",
   "execution_count": null,
   "metadata": {},
   "outputs": [],
   "source": [
    "\n",
    "list_of_lists = [['E', 'n', 'c', 'h', 'a', 'n', 't', 'i', 'n', 'g', ' '], ['p', 'r', 'o', 'c', 'e', 's', 's', ',', '\\n'], \n",
    "                 ['I', 'n', 'v', 'i', 't', 'i', 'n', 'g', ' '], ['w', 'a', 'r', 'm', ' '], ['s', 'c', 'e', 'n', 'e', 'r', 'y', ',', '\\n'],\n",
    "                 ['B', 'e', 'a', 'u', 't', 'i', 'f', 'u', 'l', ' '], ['w', 'i', 's', 'd', 'o', 'm', '.']\n",
    "                ]\n"
   ]
  },
  {
   "cell_type": "code",
   "execution_count": null,
   "metadata": {},
   "outputs": [],
   "source": [
    "# Your code here"
   ]
  },
  {
   "cell_type": "markdown",
   "metadata": {},
   "source": [
    "## A simple word count! Loop through the passage of text below and store each word in a dictionary that has a key:value pair of word: # of occurrences (for example: there are 10 occurrences of 'the' in the passage, one dictionary entry would be 'the': 10)"
   ]
  },
  {
   "cell_type": "code",
   "execution_count": null,
   "metadata": {},
   "outputs": [],
   "source": [
    "# This text adapted from the wikipedia entry on python\n",
    "\n",
    "text_list = ['Python', 'was', 'conceived', 'in', 'the', 'late', '1980s', 'and', 'its', 'implementation', 'began', 'in',\n",
    " 'December', '1989', 'by', 'Guido', 'van', 'Rossum', 'at', 'Centrum', 'Wiskunde', '&', 'Informatica', 'in', 'the',\n",
    " 'Netherlands', 'as', 'a', 'successor', 'to', 'the', 'ABC', 'language', 'itself', 'inspired', 'by', 'SETL', 'capable',\n",
    " 'of', 'exception', 'handling', 'and', 'interfacing', 'with', 'the', 'Amoeba', 'operating', 'system', '.', 'Van', 'Rossum',\n",
    " 'remains', \"Python's\", 'principal', 'author', '.', 'His', 'continuing', 'central', 'role', 'in', \"Python's\", 'development',\n",
    " 'is', 'reflected', 'in', 'the', 'title', 'given', 'to', 'him', 'by', 'the', 'Python', 'community', 'Benevolent', 'Dictator',\n",
    " 'For', 'Life', '.', 'On', 'the', 'origins', 'of', 'Python', 'Van', 'Rossum', 'wrote', 'in', '1996', 'In', 'December',\n",
    " '1989', 'I', 'was', 'looking', 'for', 'a', 'hobby', 'programming', 'project', 'that', 'would', 'keep', 'me', 'occupied',\n",
    " 'during', 'the', 'week', 'around', 'Christmas', '.', 'My', 'office', 'would', 'be', 'closed', 'but', 'I', 'had', 'a',\n",
    " 'home', 'computer', 'and', 'not', 'much', 'else', 'on', 'my', 'hands', '.', 'I', 'decided', 'to', 'write', 'an', 'interpreter',\n",
    " 'for', 'the', 'new', 'scripting', 'language', 'I', 'had', 'been', 'thinking', 'about', 'lately', 'a', 'descendant', 'of',\n",
    " 'ABC', 'that', 'would', 'appeal', 'to', 'Unix/C', 'hackers', '.', 'I', 'chose', 'Python', 'as', 'a', 'working', 'title',\n",
    " 'for', 'the', 'project', 'being', 'in', 'a', 'slightly', 'irreverent', 'mood', 'and', 'a', 'big', 'fan', 'of', 'Monty',\n",
    " \"Python's\", 'Flying', 'Circus', '.']"
   ]
  },
  {
   "cell_type": "code",
   "execution_count": null,
   "metadata": {},
   "outputs": [],
   "source": [
    "# Your code here:"
   ]
  },
  {
   "cell_type": "markdown",
   "metadata": {},
   "source": [
    "### SETS \n",
    "\n",
    "Write a script that prompts the user for two words (two, one-word strings). Print all the unique letters that are common to both words, in alphabetical order, using for loops in your solution.\n",
    "\n",
    "For example:\n",
    "\n",
    "Enter one word: Home\n",
    "Enter another word: meter\n",
    "\n",
    "Letters in common: em\n"
   ]
  },
  {
   "cell_type": "code",
   "execution_count": null,
   "metadata": {},
   "outputs": [],
   "source": [
    "# your code here\n"
   ]
  }
 ],
 "metadata": {
  "kernelspec": {
   "display_name": "Python 3",
   "language": "python",
   "name": "python3"
  },
  "language_info": {
   "codemirror_mode": {
    "name": "ipython",
    "version": 3
   },
   "file_extension": ".py",
   "mimetype": "text/x-python",
   "name": "python",
   "nbconvert_exporter": "python",
   "pygments_lexer": "ipython3",
   "version": "3.7.6"
  }
 },
 "nbformat": 4,
 "nbformat_minor": 4
}
