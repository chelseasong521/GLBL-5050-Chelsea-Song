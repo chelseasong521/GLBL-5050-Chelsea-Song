{
 "cells": [
  {
   "cell_type": "markdown",
   "metadata": {},
   "source": [
    "## Week 3 Homework\n",
    "\n",
    "Write a script to solve each of the following problems. Please create a new Jupyter notebook and save the notebook.  Please upload the notebooks to the GitHub repository in your SUBMISSIONS/week_03 folder.\n",
    "\n",
    "Assignment due date: 11:59PM Wednesday.\n",
    "\n",
    "Objectives:\n",
    "\n",
    "* Demonstrate how to obtain user input into a Python script\n",
    "* Demonstrate outputting useful information to the user in the correct format\n",
    "* Use Python numerical and string variables to calculate values and output these to user\n",
    "* Demonstrate use of the while loop and if statements"
   ]
  },
  {
   "cell_type": "markdown",
   "metadata": {},
   "source": [
    "\n",
    "### General Guidelines:\n",
    "\n",
    "Please format your input and output strings to be user friendly. For tips on how to do this, see the python string formatting cookbook at: https://mkaz.blog/code/python-string-format-cookbook/. For example, in the first problem below, format the tip to two decimal places like 15.25 instead of 15.25000001.\n",
    "    \n",
    "Limited user input validation and error checking is encouraged on this assignment. Each question below will indicate the type of input that you can expect. (for example, if the question states the input will be an integer you can expect the user to input an integer and do not need to check to ensure it is an integer versus a float or a string)\n",
    "    \n",
    "Adding comments in your code is **strongly suggested** but won't be graded.\n",
    "    \n",
    "The examples given are samples of how we will test/grade your code. Please ensure your scripts output the same information.\n",
    "    \n",
    "If you are stuck on a problem or do not understand a question - please come to office hours or ask questions to the slack group (please don't post your code though). If it is a coding problem send a private email to all of the instructors.\n",
    "\n",
    "Hints are given in some of the questions; these are optional so you do NOT need to use the hint (or code your answer that way) as long as your code meets the requirements of the problem."
   ]
  },
  {
   "cell_type": "markdown",
   "metadata": {},
   "source": [
    "### Grading Rubric\n",
    "\n",
    "-General grading rubric guidelines / philosophy:\n",
    "\n",
    "-The total possible points will be shown for each question\n",
    "\n",
    "-Please read each question carefully to understand the requirements\n",
    "\n",
    "-Points for each question are rewarded based on how well your code fulfills those requirements\n",
    "\n",
    "-Some problems have an example given to help show what is needed and how to format the answer\n",
    "\n",
    "\n",
    "#### More on grading:\n",
    "\n",
    "-If the question is blank / not attempted, no points will be given\n",
    "    \n",
    "-Most points are given for code that runs and fulfills the requirements\n",
    "\n",
    "-Minor points are given for formatting the answer in accordance with the question"
   ]
  },
  {
   "cell_type": "markdown",
   "metadata": {},
   "source": [
    "## Basic Variables and Strings (20 pts)\n",
    "\n",
    "### Basic Variables\n"
   ]
  },
  {
   "cell_type": "markdown",
   "metadata": {},
   "source": [
    "3.1: (2pts) Write a program that gets a number between 1 and 1,000,000 from the user and determines whether it is divisible by three using an if statement. Print the results. **Note: use the input function**."
   ]
  },
  {
   "cell_type": "code",
   "execution_count": null,
   "metadata": {},
   "outputs": [],
   "source": []
  },
  {
   "cell_type": "markdown",
   "metadata": {},
   "source": [
    "3.2: (2pts) Write the necessary code that prints out the area and the circumference of a circle with a radius of 2.718.\n"
   ]
  },
  {
   "cell_type": "code",
   "execution_count": null,
   "metadata": {},
   "outputs": [],
   "source": []
  },
  {
   "cell_type": "markdown",
   "metadata": {},
   "source": [
    "3.3: (2pts)  Write the necessary code to display the ratio of area to perimeter of a rectangle that has a width of 16.18 and a height of 10.\n"
   ]
  },
  {
   "cell_type": "code",
   "execution_count": null,
   "metadata": {},
   "outputs": [],
   "source": []
  },
  {
   "cell_type": "markdown",
   "metadata": {},
   "source": [
    "3.4: (2pts) A runner runs 10,000 yards in 1 hour 2 minutes and 20 seconds. What is her/his average speed in kilometers per hour (km/h)?\n"
   ]
  },
  {
   "cell_type": "code",
   "execution_count": null,
   "metadata": {},
   "outputs": [],
   "source": []
  },
  {
   "cell_type": "markdown",
   "metadata": {},
   "source": [
    "3.5: (2pts) Around the world (of 7.674 billion people), if there are:\n",
    "\n",
    "* 4.3 births per second\n",
    "* 1.8 deaths per second\n",
    "\n",
    "Write the necessary code to display the total population for the next three years (without a leap year)."
   ]
  },
  {
   "cell_type": "code",
   "execution_count": null,
   "metadata": {},
   "outputs": [],
   "source": []
  },
  {
   "cell_type": "markdown",
   "metadata": {},
   "source": [
    "3.6: (2pts) Write the necessary code to read a miles then convert it to kilometers and print it to the console.\n",
    "\n",
    "Miles = 1.60934 * Kilometers\n",
    "\n",
    "Output should read as in the following format example: \"27.4 degrees Celsius = 81.32 degrees Fahrenheit.\"\n",
    "\n",
    "**Hint: If you get an error, look up what input( ) returns!**"
   ]
  },
  {
   "cell_type": "code",
   "execution_count": null,
   "metadata": {},
   "outputs": [],
   "source": []
  },
  {
   "cell_type": "markdown",
   "metadata": {},
   "source": [
    "\n",
    "3.7: (2pts) Receive the following arguments from the user:\n",
    "- kilometers to drive\n",
    "- mpg of the car\n",
    "- price per gallon of fuel\n",
    "\n",
    "print these and the cost of the trip using the formula from above"
   ]
  },
  {
   "cell_type": "code",
   "execution_count": null,
   "metadata": {},
   "outputs": [],
   "source": []
  },
  {
   "cell_type": "markdown",
   "metadata": {},
   "source": [
    "### Strings"
   ]
  },
  {
   "cell_type": "markdown",
   "metadata": {},
   "source": [
    "3.8 (2pts) There are many string methods available to perform all sorts of tasks.\n",
    "Experiment with some of them to make sure you understand how they work. Strip and replace are particularly useful.\n",
    "Python documentation uses a syntax that might be confusing. For example, in\n",
    "\n",
    "find(sub [ , start [, end ] ] ) \n",
    "\n",
    "the brackets indicate optional arguments. So sub is required, but start is optional, and if you include start, then end is optional.\n",
    "For this exercise, demonstrate the following string methods below:\n",
    "\n",
    "-strip\n",
    "\n",
    "-replace\n",
    "\n",
    "-find\n"
   ]
  },
  {
   "cell_type": "code",
   "execution_count": null,
   "metadata": {},
   "outputs": [],
   "source": [
    "target_string = \"hello, world\"\n",
    "\n",
    "print(strip())\n",
    "\n",
    "print(replace())\n",
    "\n",
    "print(find())"
   ]
  },
  {
   "cell_type": "markdown",
   "metadata": {},
   "source": [
    "3.9 (2pts) There us a string method called 'count'. Read the documentation of the 'count' method and write a script that counts the number of o's in 'onomatopoeia' that uses the built in method 'count.'"
   ]
  },
  {
   "cell_type": "code",
   "execution_count": null,
   "metadata": {},
   "outputs": [],
   "source": []
  },
  {
   "cell_type": "markdown",
   "metadata": {},
   "source": [
    "3.10a (2pts) Write a script that takes a user inputted string and prints it out in the following three formats.\n",
    "\n",
    "* All letters capitalized - capitalize()\n",
    "* All letters lowercase - lower()\n",
    "* All vowels lowercase and all consonants uppercase - custom combination of string methods\n"
   ]
  },
  {
   "cell_type": "code",
   "execution_count": null,
   "metadata": {},
   "outputs": [],
   "source": [
    "target_string = \"hello, world\"\n"
   ]
  },
  {
   "cell_type": "markdown",
   "metadata": {},
   "source": [
    "3.10b (2pts) Write a script that takes a user inputted string and checks whether if they are the following\n",
    "\n",
    "* if it is all alphabets\n",
    "* if it is numeric\n",
    "* if it is all upper case\n",
    "* if it is all lower case\n",
    "\n",
    "**Note: there are string methods that do this: https://www.w3schools.com/python/python_ref_string.asp**"
   ]
  },
  {
   "cell_type": "code",
   "execution_count": null,
   "metadata": {},
   "outputs": [],
   "source": []
  },
  {
   "cell_type": "markdown",
   "metadata": {},
   "source": [
    "## 3.11. Short Answers (20pts total)"
   ]
  },
  {
   "cell_type": "markdown",
   "metadata": {},
   "source": [
    "3.11a (2pts): In Python, what is the difference between =(single equal) and == (double equal)?"
   ]
  },
  {
   "cell_type": "markdown",
   "metadata": {},
   "source": []
  },
  {
   "cell_type": "markdown",
   "metadata": {},
   "source": [
    "3.11b (2pts): If I am commenting on my code in a cell, what are the two ways to do this in Python?"
   ]
  },
  {
   "cell_type": "code",
   "execution_count": null,
   "metadata": {},
   "outputs": [],
   "source": []
  },
  {
   "cell_type": "markdown",
   "metadata": {},
   "source": [
    "3.11c (2pts): Write a print statement to print the following: Everyone gets an A in this class."
   ]
  },
  {
   "cell_type": "code",
   "execution_count": null,
   "metadata": {},
   "outputs": [],
   "source": []
  },
  {
   "cell_type": "markdown",
   "metadata": {},
   "source": [
    "3.11d (2pts): Name four data types in Python. Use a markdown cell type for this answer. **Note: On the top bar (Cell -> Cell Type -> Markdown)**"
   ]
  },
  {
   "cell_type": "code",
   "execution_count": null,
   "metadata": {},
   "outputs": [],
   "source": []
  },
  {
   "cell_type": "markdown",
   "metadata": {},
   "source": [
    "3.11e (4pts): Assign your name, your Yale program, and your year of graduation equal to variables of your choosing. Then write a print statement using an \"f string\" that says \"Hello, my name is (name). I am in Yale's (program) and I hope to graduate in (year).\" **Using F-strings in Python: https://www.geeksforgeeks.org/formatted-string-literals-f-strings-python/**"
   ]
  },
  {
   "cell_type": "code",
   "execution_count": null,
   "metadata": {},
   "outputs": [],
   "source": []
  },
  {
   "cell_type": "markdown",
   "metadata": {},
   "source": [
    "3.11f (2pts): Write the mathematical operators for the following using a markdown cell type and give a code example of each:\n",
    "For example:\n",
    "plus: + , 3 + 4\n",
    "\n",
    "minus:\n",
    "\n",
    "multiply:\n",
    "\n",
    "divide:\n",
    "\n",
    "find the remainder of two numbers divided:\n",
    "\n",
    "square: (as in 3 squared is 9)\n",
    "\n",
    "cube: (as in 2 cubed is 8)\n",
    "\n",
    "greater than:\n",
    "\n",
    "greater than or equal to:\n",
    "\n",
    "less than:\n",
    "\n",
    "less than or equal to:\n",
    "\n",
    "\n"
   ]
  },
  {
   "cell_type": "code",
   "execution_count": null,
   "metadata": {},
   "outputs": [],
   "source": []
  },
  {
   "cell_type": "markdown",
   "metadata": {},
   "source": [
    "3.11g (2pts): What is the built-in Python function to determine the type of an object?\n",
    "Give four examples of using this function on four different object types."
   ]
  },
  {
   "cell_type": "code",
   "execution_count": null,
   "metadata": {},
   "outputs": [],
   "source": []
  },
  {
   "cell_type": "markdown",
   "metadata": {},
   "source": [
    "\n",
    "\n",
    "3.11h (4pts): Write a program using print that, when run, prints out a tic-tac-toe board.\n",
    "Expected output:"
   ]
  },
  {
   "cell_type": "code",
   "execution_count": null,
   "metadata": {},
   "outputs": [],
   "source": [
    "   |   |\n",
    "-----------\n",
    "   |   |\n",
    "-----------\n",
    "   |.  |"
   ]
  },
  {
   "cell_type": "code",
   "execution_count": null,
   "metadata": {},
   "outputs": [],
   "source": []
  },
  {
   "cell_type": "markdown",
   "metadata": {},
   "source": [
    "## Some Puzzles (60 pts total)"
   ]
  },
  {
   "cell_type": "markdown",
   "metadata": {},
   "source": [
    "3.12. Tip Calculator (20 points)\n",
    "\n",
    "Below, you can see the script I wrote to compute the tip for a meal. Fix it so that it works correctly. Expect the input to be a number. Please format the output to 2 decimal places.\n",
    "\n",
    "\n",
    "Example Grading Rubric:\n",
    "\n",
    "    10 points: fixing the crash so the program works with numbers (for example: 10 or 4.99)\n",
    "    5 points: formatting the output correctly to 2 decimal places\n",
    "    5 points: naming the file correctly (tip.py)\n",
    "\n",
    "price = input(\"Enter the price of a meal: \")\n",
    "\n",
    "tip = price * 0.16\n",
    "total = price + tip\n",
    "\n",
    "print(\"A 16% tip would be:\", tip)\n",
    "print(\"The total including tip would be:\", total)\n",
    "\n",
    "Enter the price of a meal: 10\n",
    "\n",
    "-----------------------------------------------------------------------"
   ]
  },
  {
   "cell_type": "code",
   "execution_count": null,
   "metadata": {},
   "outputs": [],
   "source": []
  },
  {
   "cell_type": "code",
   "execution_count": 2,
   "metadata": {},
   "outputs": [
    {
     "ename": "SyntaxError",
     "evalue": "invalid syntax (<ipython-input-2-9c1c625d6db0>, line 1)",
     "output_type": "error",
     "traceback": [
      "\u001b[0;36m  File \u001b[0;32m\"<ipython-input-2-9c1c625d6db0>\"\u001b[0;36m, line \u001b[0;32m1\u001b[0m\n\u001b[0;31m    ----\u001b[0m\n\u001b[0m        ^\u001b[0m\n\u001b[0;31mSyntaxError\u001b[0m\u001b[0;31m:\u001b[0m invalid syntax\n"
     ]
    }
   ],
   "source": [
    "----\n",
    "TypeError                                 Traceback (most recent call last)\n",
    "<ipython-input-2-d30916b79472> in <module>\n",
    "      1 price = input(\"Enter the price of a meal: \")\n",
    "      2 \n",
    "----> 3 tip = price * 0.16\n",
    "      4 total = price + tip\n",
    "      5 \n",
    "\n",
    "TypeError: can't multiply sequence by non-int of type 'float'"
   ]
  },
  {
   "cell_type": "markdown",
   "metadata": {},
   "source": [
    "3.13. Gas Pump Informer (15 points)\n",
    "\n",
    "Write a script that prompts the user for a number of gallons of gasoline. Reprint that value, along with its conversion to other measurements **Note: remember to check user input data type**:\n",
    "\n",
    "    Equivalent number of liters (format to 4 decimals)\n",
    "    Number of barrels of oil required to produce it (format to 3 decimals)\n",
    "    Price in U.S. dollars (format to 2 decimals)\n",
    "\n",
    "Figures to use:\n",
    "\n",
    "    1 gallon is equivalent to 3.7854 liters.\n",
    "    1 barrel of oil produces 19.5 gallons of gas.\n",
    "    The average price of gas is approximately $3.65 per gallon."
   ]
  },
  {
   "cell_type": "code",
   "execution_count": null,
   "metadata": {},
   "outputs": [],
   "source": []
  },
  {
   "cell_type": "markdown",
   "metadata": {},
   "source": [
    "\n",
    "3.14. Income Tax (20 points)\n",
    "\n",
    "The mythical island nation of Kinglandia has a rather simple tax code. The first 1000 dollars of income is taxed at 5%. The next 1000 dollars is taxed at 10%. Any income beyond the first 2000 dollars is taxed at 15%. Complete the following script so that it asks the user for his or her income (a number) and outputs the amount of tax owed.\n",
    "\n",
    "Example:\n",
    "\n",
    "Please enter your income: 1500\n",
    "\n",
    "The tax owed is: $100\n"
   ]
  },
  {
   "cell_type": "code",
   "execution_count": null,
   "metadata": {},
   "outputs": [],
   "source": []
  },
  {
   "cell_type": "markdown",
   "metadata": {},
   "source": [
    "3.15 First and Last (10 points) \n",
    "\n",
    "Write a Python program to change a given string to a new string where the first and last chars have been exchanged."
   ]
  },
  {
   "cell_type": "code",
   "execution_count": null,
   "metadata": {},
   "outputs": [],
   "source": []
  },
  {
   "cell_type": "markdown",
   "metadata": {},
   "source": [
    "\n",
    "3.16 Palindrome (10 points)\n",
    "\n",
    "Write a script that prompts the user for a name (this input will be a 1 word string). Using a while loop that counts downwards (instead of using the 'reverse' function or the string slicing [::-1] method), print the letters of the name reversed (hint: you can use print(var, end='') in each iteration of the loop). You should use s.lower() and s.upper(), as appropriate, to change the string to lowercase and print it out with only the first letter of the reversed word in uppercase. If the name is the same forward and backwards, print \"Palindrome!\" on the next line. Make sure your code prints the sample examples exactly as shown below.\n",
    "\n",
    "Examples:\n",
    "\n",
    "Enter your name: Paul\n",
    "Luap\n",
    "\n",
    "Enter your name: ANA\n",
    "Ana\n",
    "Palindrome!\n",
    "\n",
    "\n",
    "\n",
    "\n"
   ]
  },
  {
   "cell_type": "markdown",
   "metadata": {},
   "source": [
    "\n",
    "\n",
    "\n",
    "\n"
   ]
  },
  {
   "cell_type": "code",
   "execution_count": null,
   "metadata": {},
   "outputs": [],
   "source": []
  }
 ],
 "metadata": {
  "kernelspec": {
   "display_name": "Python 3",
   "language": "python",
   "name": "python3"
  },
  "language_info": {
   "codemirror_mode": {
    "name": "ipython",
    "version": 3
   },
   "file_extension": ".py",
   "mimetype": "text/x-python",
   "name": "python",
   "nbconvert_exporter": "python",
   "pygments_lexer": "ipython3",
   "version": "3.7.6"
  }
 },
 "nbformat": 4,
 "nbformat_minor": 2
}
