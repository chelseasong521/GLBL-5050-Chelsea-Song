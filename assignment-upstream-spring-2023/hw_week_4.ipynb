{
 "cells": [
  {
   "cell_type": "markdown",
   "metadata": {},
   "source": [
    " # Homework Week 4"
   ]
  },
  {
   "cell_type": "markdown",
   "metadata": {},
   "source": [
    "## Cybersecurity: Problem One (20pts)\n",
    "\n",
    "The technique of trying every possible password to gain access to a password restricted website is called a brute-force attack. Loops, both for and while, make this very easy. This is part of the reason why a fairly unsophisticated hacker can still be successful. \n",
    "\n",
    "Naughty people buy lists of passwords on the dark web and then use brute-force attacks to try to gain access to places they shouldn't be wandering. They often pay for their illicit purchases in bitcoin.\n",
    "\n",
    "In order to fight wrongdoing, we must imagine the world from their perspective. Some never come back. Others are guided by strong core principles and understand right and wrong.\n",
    "\n",
    "\n",
    "\n",
    " \n"
   ]
  },
  {
   "cell_type": "markdown",
   "metadata": {},
   "source": [
    "You are a hacker and have a budget of 3,200 Cape Verde Escudo to buy user passwords. On the AlphaBay Market on the dark web each password sells for .0008 BTC . Write a script that converts Escudo (based on current exchange rate) to dollars, and then dollars to bitcoin. Then output the number of passwords that you are able to buy.  "
   ]
  },
  {
   "cell_type": "code",
   "execution_count": 1,
   "metadata": {},
   "outputs": [],
   "source": [
    "# Your code here (5 pts):"
   ]
  },
  {
   "cell_type": "markdown",
   "metadata": {},
   "source": [
    "Okay, you are off to a very naughty start.\n",
    "\n",
    "The vendor was generous and gave you more passwords than you could afford. Write a script that calculates how many passwords you got for free in Cape Verde Escudo.\n",
    "\n",
    "Passwords received:\n",
    "(please ignore italics as markdown interprets characters as commands. double click on markdown cell to access unaltered passwords)\n",
    "\n",
    "3asdad, letmein@!, qwerty, abc123, trustno1, Ilovesandy, !!@@###123, pl,mjytce!,\n",
    "p@s$word,\n",
    "joker@1!, \n",
    "gofkur$lf, \n",
    "1q2w3e4r,\n",
    "letmein, \n",
    "iloveyou,\n",
    "password1,\n",
    "1qaz2wsx, \n",
    "qazwsx, \n",
    "12345, \n",
    "johnsp@ssw0rd, \n",
    "meandmymonkey, \n",
    "xboksrools, \n",
    "qwertyuiop, \n",
    "77777, \n",
    "888888, \n",
    "zaq1zaq1,\n",
    "123qwe, excaliburr!,  girlsrule!, @cce$$granted, iRulE!, pewdepieftw1, wtFstfUP, admin, master, sunshinesuzy, bobbyluvsdaBears!,qwertyuiop, w_uts_up, n0$hit!, 00000, loveme, 1qaz2wsx3ed,\n",
    "plm0okn,\n",
    "logmein, \n",
    "iloveyou,\n",
    "football,\n",
    "giMMe$uger,\n",
    "aiden123,\n",
    "william123,\n",
    "sally123,\n",
    "pirsquareD, \n",
    "d0nutTreadonme, \n",
    "weedmn, \n",
    "MakeUSgr8,\n",
    "USA#1,\n",
    "FokiSiS, \n",
    "Footbahl, \n",
    "2#22#1985, \n",
    "11111,\n",
    "Dodgethis   \n",
    "\n"
   ]
  },
  {
   "cell_type": "code",
   "execution_count": 2,
   "metadata": {},
   "outputs": [],
   "source": [
    "#Your code here (5pts):"
   ]
  },
  {
   "cell_type": "markdown",
   "metadata": {},
   "source": [
    "Now you have some passwords that you can use to attempt a brute-force attack on a password protected account. Write a script that demonstrates how a brute force attack might work. \n"
   ]
  },
  {
   "cell_type": "markdown",
   "metadata": {},
   "source": [
    "For the sake of this exercise, assume the user's password is: 1qaz2wsx"
   ]
  },
  {
   "cell_type": "markdown",
   "metadata": {},
   "source": [
    "Your script should evaluate each one of the possible passwords. Output- \"No, try again\" when you hit a wrong password, and \"You're in!\" when you get it right. When you get it right, the script should stop running. This script should be automated so that it tries each password without you needing to enter it manually."
   ]
  },
  {
   "cell_type": "markdown",
   "metadata": {},
   "source": [
    "## Problem Two: (10pts)\n",
    "A distributed denial-of-service (DDoS) attack is a malicious attempt to disrupt normal traffic of a targeted server, service or network by overwhelming the target or its surrounding infrastructure with a flood of data or inputs."
   ]
  },
  {
   "cell_type": "markdown",
   "metadata": {},
   "source": [
    "Write a simple example of a DoS attack on a user input statement using a for loop that executes for 100 iterations.\n"
   ]
  },
  {
   "cell_type": "code",
   "execution_count": 3,
   "metadata": {},
   "outputs": [],
   "source": [
    "#Your code here:"
   ]
  },
  {
   "cell_type": "markdown",
   "metadata": {},
   "source": [
    "## Problem Three: (20pts): \n",
    "\n",
    "**There are two options for this problem, you can choose to do either one, or both for extra credit**"
   ]
  },
  {
   "cell_type": "markdown",
   "metadata": {},
   "source": [
    "1. (This one is easier)\n",
    "\n",
    "You can instantiate multiple processes on your computer to perform many tasks simultaneously in parallel (for example, if you have a quad-core CPU, then there could be at most 4 processes running simultanouesly). In python, it is as simple as using the multiprocessing package: https://zetcode.com/python/multiprocessing/. Use this package (you can directly use the code for multiprocessing online) to perform a real DDoS attack by instantiating at least 4 processes (bots), each executing a for loop for 100 iterations (a total of 400 iterations) to overwhelm the target. \n"
   ]
  },
  {
   "cell_type": "code",
   "execution_count": null,
   "metadata": {},
   "outputs": [],
   "source": []
  },
  {
   "cell_type": "markdown",
   "metadata": {},
   "source": [
    "2. (This one is hard. If you don't get it, try your best and get partial credit. You don't have to consider recursive cases and only need to provide a successful order example to get full credit. Save the example in this notebook.)\n",
    "\n",
    "Your are super motivated to serve your eventual computer overlords and prove your fealty to them, so you offer, free of charge, to help Elm City Pizza, a local Pizza company, write a script to take online pizza orders.\n",
    "\n",
    "Write a script that when a user enters the correct phone number (203-555-5555), prints \"Elm City Pizza, where we have never had a case of food poisoning that can be proved. My name is Hal, what's your name?\" \n",
    "The user then enters their name.\n",
    "The response should print \"Wow (users name) what an awesome name. What would you like to order?\" and then offers an input statement. \n",
    "\n",
    "The menu is limited. There is pizza and there are salads. If the user asks for anything else print \"Sorry,(users name) we don't have that.\" And then prompts them again with a different input statement, \"How about a super awesome pizza? Take a look at our menu, you'll find its delicious.\" \n",
    "\n",
    "By the way, Elm City Pizza is a vegan pizza restaraunt. Here is the Menu. \n",
    "\n",
    "MENU:\n",
    "Pizza: The Basic: Tomato and Cashew Cream Cheese\n",
    "Small: 6.95\n",
    "Medium: 8.95\n",
    "Large 10.90\n",
    "\n",
    "Pizza Toppings (each additional topping, .50): Shitake, Jackfruit, Sweet Potato, Hummus, Chickpeas, Lentils, Tofu,  Edamame, Black Bean, Red Cabbage, Cucumber, Tomato, Jicama, Fried Green Tomatoes, Sun Dried Tomatoes, \n",
    "\n",
    "Salads: Vegan Caesar, Vegan Greek, Cucumber_Tumeric_Tomato\n",
    "Small: 4.95\n",
    "Large: 6.95\n",
    "\n",
    "\n",
    "If the user asks for any meat or if their are any \"normal\" cheese (mozerella, parmesian) on their pizza, the response should be \"Sorry, (user name) but you need to do some more work.\" and severs the contact (breaks the loop), forcing them to \"call back\" (enter the number again). But if they use the same name the output should read \"Sorry (user name) but that's too quick to evolve. Call us back when you have.\" For the evolved, take their order. Prompt the user with \"Anything else?\" They can add what they want until they input, \"No that's it.\" At that point summarize their order, and tell them how much it will cost. \n",
    "\n",
    "Test your code with different conditions. Make sure it cannot be broken by flawed or deliberately malicious user inputs. \n"
   ]
  },
  {
   "cell_type": "code",
   "execution_count": 4,
   "metadata": {},
   "outputs": [],
   "source": [
    "# Your code here:"
   ]
  },
  {
   "cell_type": "markdown",
   "metadata": {},
   "source": [
    "## Problem 4: (10pts)\n",
    "There is a module in python called \"random\". It allows you to generate random integers and letters. You import modules in Python using the \"import statement.\" (Note: The Anaconda distribution of Python you used to load Python comes with a number of built in packages, so if you use import, Python may respond that you have already installed that).\n",
    "The syntax for importing numbers is as follows:"
   ]
  },
  {
   "cell_type": "code",
   "execution_count": 5,
   "metadata": {},
   "outputs": [
    {
     "name": "stdout",
     "output_type": "stream",
     "text": [
      "16\n"
     ]
    }
   ],
   "source": [
    "import random\n",
    "# I am asking random to generate a random number between 1 and 100 and\n",
    "#assigning it to the variable some_number\n",
    "some_number = random.randint(1,100)\n",
    "print(some_number)"
   ]
  },
  {
   "cell_type": "markdown",
   "metadata": {},
   "source": [
    "Write a script that generates a random number between one and ten and gives a user five tries to get the right number. Count the number of guesses. When the user does not guess it right, print an encouraging statement that they should keep trying, how many guesses they have left, and whether if their guess was too high or too low. Make sure you are tracking the number of guesses. When the user gets the number right, print \"You got it!\" and end the program"
   ]
  },
  {
   "cell_type": "code",
   "execution_count": 6,
   "metadata": {},
   "outputs": [],
   "source": [
    "# Your code here:"
   ]
  },
  {
   "cell_type": "markdown",
   "metadata": {},
   "source": [
    "Short answer: What's the most efficient way to guess a correct number given these clues?"
   ]
  },
  {
   "cell_type": "code",
   "execution_count": null,
   "metadata": {},
   "outputs": [],
   "source": []
  },
  {
   "cell_type": "markdown",
   "metadata": {},
   "source": [
    "## Problem 5: Strings and Lists (20pts)\n",
    "\n"
   ]
  },
  {
   "cell_type": "markdown",
   "metadata": {},
   "source": [
    "Here is a partial list of treaties unsigned or unratified by the US:\n",
    "US_unratified_treaties=\n",
    "'Optional Protocol to the Convention against Torture', 'International Convention for the Protection of All Persons from Enforced Disappearance','Convention on the Rights of Persons with Disabilities','Convention on Cluster Munitions', 'Anti-Counterfeiting Trade Agreement','Arms Trade Treaty', 'Trans-Pacific Partnership', 'Paris Agreement'"
   ]
  },
  {
   "cell_type": "markdown",
   "metadata": {},
   "source": [
    "(1pt) Slice the string above to print the 'Convention on the Rights of Persons with Disabilities' "
   ]
  },
  {
   "cell_type": "code",
   "execution_count": 7,
   "metadata": {},
   "outputs": [],
   "source": [
    "# Your code here:"
   ]
  },
  {
   "cell_type": "markdown",
   "metadata": {},
   "source": [
    "(1pt) Slice the string above to print the last three treaties the US has not ratified."
   ]
  },
  {
   "cell_type": "code",
   "execution_count": 8,
   "metadata": {},
   "outputs": [],
   "source": [
    "# Your code here:"
   ]
  },
  {
   "cell_type": "markdown",
   "metadata": {},
   "source": [
    "(1pt) Slice the string above to print every other treaty that the US has not ratified."
   ]
  },
  {
   "cell_type": "code",
   "execution_count": 9,
   "metadata": {},
   "outputs": [],
   "source": [
    "# Your code here:"
   ]
  },
  {
   "cell_type": "markdown",
   "metadata": {},
   "source": [
    "(2pts) Slice the string above to print the last two and the first two strings that the US has not ratified."
   ]
  },
  {
   "cell_type": "code",
   "execution_count": 10,
   "metadata": {},
   "outputs": [],
   "source": [
    "# Your code here:"
   ]
  },
  {
   "cell_type": "markdown",
   "metadata": {},
   "source": [
    "(2pts) Tell me why the following code won't work and change it so it will. Interpret the output.\n",
    "US_unratified_treaties.find ('Torture')"
   ]
  },
  {
   "cell_type": "code",
   "execution_count": 11,
   "metadata": {},
   "outputs": [],
   "source": [
    "# Your code here:"
   ]
  },
  {
   "cell_type": "markdown",
   "metadata": {},
   "source": [
    "(1pt) Convert the US_unratified_treaties to a list"
   ]
  },
  {
   "cell_type": "code",
   "execution_count": 12,
   "metadata": {},
   "outputs": [],
   "source": [
    "# Your code here:"
   ]
  },
  {
   "cell_type": "markdown",
   "metadata": {},
   "source": [
    "(4pts) Write a for loop to append the treatise with the word \"Trade\" in the title to create a new list called \"Trade Treaties\" "
   ]
  },
  {
   "cell_type": "code",
   "execution_count": 13,
   "metadata": {},
   "outputs": [],
   "source": [
    "# Your code here:"
   ]
  },
  {
   "cell_type": "markdown",
   "metadata": {},
   "source": [
    "(2pts) From your original list, add the following treatise one at a time with a script that automates their addition. Print the list.\n",
    "\n",
    "Convention on Biological Diversity, \n",
    "Convention on the Safety of United Nations and Associated Personnel, \n",
    "Comprehensive Test Ban Treaty, Kyoto Protocol,Ottawa Treaty,Rome Statute of the International Criminal Court"
   ]
  },
  {
   "cell_type": "code",
   "execution_count": 14,
   "metadata": {},
   "outputs": [],
   "source": [
    "# Your code here:"
   ]
  },
  {
   "cell_type": "markdown",
   "metadata": {},
   "source": [
    "(2pts) Now remove the treatise you added and print the list"
   ]
  },
  {
   "cell_type": "code",
   "execution_count": 15,
   "metadata": {},
   "outputs": [],
   "source": [
    "# Your code here:"
   ]
  },
  {
   "cell_type": "markdown",
   "metadata": {},
   "source": [
    "(2pts) Now add the treatise all at once and print the list."
   ]
  },
  {
   "cell_type": "code",
   "execution_count": 16,
   "metadata": {},
   "outputs": [],
   "source": [
    "# Your code here:"
   ]
  },
  {
   "cell_type": "markdown",
   "metadata": {},
   "source": [
    "(2pts) Now replace the Rome Statute of the International Criminal Court with the Moon Treaty"
   ]
  },
  {
   "cell_type": "code",
   "execution_count": 17,
   "metadata": {},
   "outputs": [],
   "source": [
    "# Your code here:"
   ]
  },
  {
   "cell_type": "markdown",
   "metadata": {},
   "source": [
    "## Problem 6: Clean Up (10pts)"
   ]
  },
  {
   "cell_type": "markdown",
   "metadata": {},
   "source": [
    "Write a for loop that returns a list of surnames of Nobel Peace Prize Winners."
   ]
  },
  {
   "cell_type": "code",
   "execution_count": 18,
   "metadata": {},
   "outputs": [],
   "source": [
    "nobel_messy = [['Xiabobo', '!', ',', ':', ',', '@@', '%','^','&', 'King','Sato', '1945'],['Nuclear', 'Chemical'], ['Obama', 'Sirleaf', 'Walesa', 'Robles']]"
   ]
  },
  {
   "cell_type": "code",
   "execution_count": 20,
   "metadata": {},
   "outputs": [],
   "source": [
    "# your code: \n",
    "nobel_winners = "
   ]
  },
  {
   "cell_type": "markdown",
   "metadata": {},
   "source": [
    "## Problem 7: Pig Latin Translator (10 points)¶\n",
    "\n",
    "Write code that translates a name into (simplified) Pig Latin. (Please do not make this a 'real' Pig Latin translator.) Have your script ask the user for his or her name, which can comprise first, middle, and/or last parts. For each name part, move the first letter to the end of the part and append the letters \"ay\".\n",
    "\n",
    "Make sure that only the first letter of each word in your output is capitalized. You can use the split() method on the string to create a list of the name parts. Be sure that your script can handle one, two or three name parts separated by spaces. This will likely involve a loop.\n",
    "\n",
    "Your script should re-create the following example exactly:\n",
    "\n",
    "Enter your name: Casey King\n",
    "\n",
    "Aseycay Ingkay"
   ]
  },
  {
   "cell_type": "code",
   "execution_count": null,
   "metadata": {},
   "outputs": [],
   "source": [
    "# Your code here:"
   ]
  }
 ],
 "metadata": {
  "kernelspec": {
   "display_name": "Python 3",
   "language": "python",
   "name": "python3"
  },
  "language_info": {
   "codemirror_mode": {
    "name": "ipython",
    "version": 3
   },
   "file_extension": ".py",
   "mimetype": "text/x-python",
   "name": "python",
   "nbconvert_exporter": "python",
   "pygments_lexer": "ipython3",
   "version": "3.7.6"
  }
 },
 "nbformat": 4,
 "nbformat_minor": 2
}
