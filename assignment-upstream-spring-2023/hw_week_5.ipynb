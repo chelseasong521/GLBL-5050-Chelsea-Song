{
 "cells": [
  {
   "cell_type": "markdown",
   "metadata": {},
   "source": [
    "## Homework Week 5"
   ]
  },
  {
   "cell_type": "markdown",
   "metadata": {},
   "source": [
    "### Conditionals and Loops(10pts)\n",
    "\n",
    "<b> +1 Bonus if you can do the for-loops in one line (using list comprehension) </b> "
   ]
  },
  {
   "cell_type": "markdown",
   "metadata": {},
   "source": [
    "Use a \"for-loop\", print out all the odd numbers from 1-100."
   ]
  },
  {
   "cell_type": "code",
   "execution_count": null,
   "metadata": {},
   "outputs": [],
   "source": [
    "#Your code here:"
   ]
  },
  {
   "cell_type": "markdown",
   "metadata": {},
   "source": [
    "Print every prime number between 1 and 100. (You can use two for-loops, one to iterate from 1-100, another to check for any denominators)"
   ]
  },
  {
   "cell_type": "code",
   "execution_count": null,
   "metadata": {},
   "outputs": [],
   "source": [
    "# Your code here:"
   ]
  },
  {
   "cell_type": "markdown",
   "metadata": {},
   "source": [
    "Take two numbers from the user, an upper bound and a lower bound. Using a loop, calculate the sum of numbers from the lower bound to the upper bound. Also, calculate the average of numbers. Print the result."
   ]
  },
  {
   "cell_type": "code",
   "execution_count": null,
   "metadata": {},
   "outputs": [],
   "source": [
    "# Your code here:"
   ]
  },
  {
   "cell_type": "markdown",
   "metadata": {},
   "source": [
    "Use a \"while\" loop to print out every fourth number counting backwards from 100 to 1, use the \"break\" statement to exit the loop."
   ]
  },
  {
   "cell_type": "code",
   "execution_count": null,
   "metadata": {},
   "outputs": [],
   "source": [
    "# Your code here:"
   ]
  },
  {
   "cell_type": "markdown",
   "metadata": {},
   "source": [
    "Write a script that prints out all the squares of numbers from a user inputed lower to a user inputed upper bound.\n",
    "\n",
    "Use a for loop that demonstrates the use of the range function."
   ]
  },
  {
   "cell_type": "code",
   "execution_count": null,
   "metadata": {},
   "outputs": [],
   "source": [
    "# Your code here:"
   ]
  },
  {
   "cell_type": "markdown",
   "metadata": {},
   "source": [
    "### Print the Pattern (10 pts)\n",
    "\n",
    "Print the following pattern using for-loops\n",
    "\n",
    "1 <br>\n",
    "1 2 <br>\n",
    "1 2 3 <br>\n",
    "1 2 3 4 <br>\n",
    "1 2 3 4 5 <br>\n"
   ]
  },
  {
   "cell_type": "code",
   "execution_count": null,
   "metadata": {},
   "outputs": [],
   "source": [
    "# Your code here: "
   ]
  },
  {
   "cell_type": "markdown",
   "metadata": {},
   "source": [
    "### For Loops (10 pts)¶\n",
    "\n",
    "Write a script that prompts the user for two words (two, one-word strings). Print all the unique letters that are common to both words, in alphabetical order, using for loops in your solution.\n",
    "\n",
    "For example:\n",
    "\n",
    "Enter one word: Home\n",
    "Enter another word: meter\n",
    "\n",
    "Letters in common: em"
   ]
  },
  {
   "cell_type": "code",
   "execution_count": null,
   "metadata": {},
   "outputs": [],
   "source": [
    "# Your code here: "
   ]
  },
  {
   "cell_type": "markdown",
   "metadata": {},
   "source": [
    "### Make Tuples Not War (15 pts)\n",
    "\n",
    "Write a script that takes in a list of numbers (input) and:\n",
    "    - sorts the numbers\n",
    "    - stores the numers in tuples of two in a list\n",
    "    - prints each tuple\n",
    "    \n",
    "notes:\n",
    "If the user enters an off numbered list, add the last item to a tuple with the number 0. \n",
    "\n"
   ]
  },
  {
   "cell_type": "code",
   "execution_count": null,
   "metadata": {},
   "outputs": [],
   "source": [
    "#Your code here:"
   ]
  },
  {
   "cell_type": "markdown",
   "metadata": {},
   "source": [
    "Make a string from the following tuple: \n",
    "   tuple_1=(F','o','o','b','a','W','o','o','b','a','J','o','h','n')"
   ]
  },
  {
   "cell_type": "code",
   "execution_count": null,
   "metadata": {},
   "outputs": [],
   "source": [
    "# Your code here: "
   ]
  },
  {
   "cell_type": "markdown",
   "metadata": {},
   "source": [
    "\n",
    "Using only for loops, print the content of each tuple (list comprehension)."
   ]
  },
  {
   "cell_type": "code",
   "execution_count": null,
   "metadata": {},
   "outputs": [],
   "source": [
    "treaties = [[('Kyoto Protocol', 1997), ('Montreal Protocol', 1987), ('Basel Convention', 1992), ('Tokyo Convention', 1969)]\n",
    "            \n",
    "        # Your code here:\n",
    "            \n",
    "    ]"
   ]
  },
  {
   "cell_type": "code",
   "execution_count": null,
   "metadata": {},
   "outputs": [],
   "source": [
    "# Your code here: "
   ]
  },
  {
   "cell_type": "markdown",
   "metadata": {},
   "source": [
    "Use enumerate() to enumerate through a list using for-loops: fruits = [ \"Apple\",\"Berry\",\"Cherry\" ]. \n",
    "\n",
    "Here, enumerate turns each item into (index, item) tuple pairs.\n",
    "\n",
    "**Hint: https://www.geeksforgeeks.org/enumerate-in-python/**\n",
    "\n",
    "For each item in the list, print: \n",
    "1. index  \n",
    "2. Item"
   ]
  },
  {
   "cell_type": "code",
   "execution_count": null,
   "metadata": {},
   "outputs": [],
   "source": [
    "# Your code here: "
   ]
  },
  {
   "cell_type": "markdown",
   "metadata": {},
   "source": [
    "### Lists (10 pts)"
   ]
  },
  {
   "cell_type": "markdown",
   "metadata": {},
   "source": [
    "Given the following list, use a for loop to return a list without Monopoly\n",
    "\n",
    "board_games =['Life','Monopoly', 'Sorry', 'Monopoly', 'Risk', 'Stratego', 'Monopoly']"
   ]
  },
  {
   "cell_type": "code",
   "execution_count": null,
   "metadata": {},
   "outputs": [],
   "source": [
    "#Your code here: "
   ]
  },
  {
   "cell_type": "markdown",
   "metadata": {},
   "source": [
    "Write a loop within a loop to print the following:\n",
    "\n",
    "Enchanting process,\n",
    "\n",
    "Inviting warm scenery,\n",
    "\n",
    "Beautiful wisdom.\n",
    "\n",
    "\n",
    "list_of_lists = [['E', 'n', 'c', 'h', 'a', 'n', 't', 'i', 'n', 'g', ' '], ['p', 'r', 'o', 'c', 'e', 's', 's', ',', '\\n'], \n",
    "                 ['I', 'n', 'v', 'i', 't', 'i', 'n', 'g', ' '], ['w', 'a', 'r', 'm', ' '], ['s', 'c', 'e', 'n', 'e', 'r', 'y', ',', '\\n'],\n",
    "                 ['B', 'e', 'a', 'u', 't', 'i', 'f', 'u', 'l', ' '], ['w', 'i', 's', 'd', 'o', 'm', '.']\n",
    "                ]\n"
   ]
  },
  {
   "cell_type": "code",
   "execution_count": null,
   "metadata": {},
   "outputs": [],
   "source": [
    "# Your code here: "
   ]
  },
  {
   "cell_type": "markdown",
   "metadata": {},
   "source": [
    "Given a word, provided below, make a list of all strings that can be formed by deleting exactly one character from the word.\n",
    "\n",
    "Example:\n",
    "\n",
    "Input: \"Welcomed\"\n",
    "\n",
    "Output: ['elcomed', 'Wlcomed', 'Wecomed', 'Welomed', 'Welcmed', 'Welcoed', 'Welcomd', 'Welcome']"
   ]
  },
  {
   "cell_type": "code",
   "execution_count": null,
   "metadata": {},
   "outputs": [],
   "source": [
    "# Your code here:"
   ]
  },
  {
   "cell_type": "markdown",
   "metadata": {},
   "source": [
    "### Dictionary Drills (10 pts)"
   ]
  },
  {
   "cell_type": "markdown",
   "metadata": {},
   "source": [
    "Write a script that takes a sentence from the user and returns:\n",
    "    - the number of lower case letters\n",
    "    - the number of uppercase letters\n",
    "    - the number of punctuation characters\n",
    "    - the total number of characters\n",
    "\n",
    "Use a dictionay to store the count of each of the above.\n",
    "Note: ignore all spaces\n",
    "\n",
    "Example input:\n",
    "    I love to work with dictionaries! \n",
    "Example output:\n",
    "       Uppercase: 1\n",
    "       Lowercase: 26\n",
    "       Punctuation: 1 "
   ]
  },
  {
   "cell_type": "code",
   "execution_count": null,
   "metadata": {},
   "outputs": [],
   "source": [
    "#Your code here:"
   ]
  },
  {
   "cell_type": "markdown",
   "metadata": {},
   "source": [
    "Take in a number from the user and print \"January\", \"Feburary\", \"March\", \"April\", ..., \"December\" or \"other\" if the number from the user is 1, 2, 3, 4, ..., 12 or other respectively. \n",
    "\n"
   ]
  },
  {
   "cell_type": "code",
   "execution_count": null,
   "metadata": {},
   "outputs": [],
   "source": [
    "#Your code here:"
   ]
  },
  {
   "cell_type": "markdown",
   "metadata": {},
   "source": [
    "Creat a new dictionary using the three dictionaries below. Then print out each key-value pair.\n",
    "\n",
    "dict_1 = {1:1, 2:4}\n",
    "dict_2 = {3:9, 4:16}\n",
    "dict_3 = {5:25, 6:36, 7:49}\n",
    "\n"
   ]
  },
  {
   "cell_type": "code",
   "execution_count": null,
   "metadata": {},
   "outputs": [],
   "source": [
    "# Your code here: "
   ]
  },
  {
   "cell_type": "markdown",
   "metadata": {},
   "source": [
    "###  Create a to-do list program using a dictionary of lists (20 points)\n",
    "\n",
    "Write code that stores a to-do list for each day of the week (Sunday through Saturday). Your program needs to have the following elements:\n",
    "\n",
    "-An empty dictionary to store information\n",
    "-A key in the dictionary for each day of the week\n",
    "\n",
    "-Each key has a value of a list that stores the to-do list items\n",
    "\n",
    "User can type \"add\" and the program will ask what day, then ask what item to add to that day. Ensure the user can add multiple items per day. (That is, ensure that this adds a new item, not replaces an existing item.)\n",
    "\n",
    "-User can type \"get\" and the program will ask for the day and print the values\n",
    "\n",
    "-The program will loop, using a while loop, until the user specifies \"quit\"\n",
    "\n",
    "Some user error checking is required, specifically: upper/lowercase for the days of the week, incorrect day of the week, or an incorrect command\n",
    "\n",
    "Hint: This task requires you to use tools you learned \"if\" and \"loops\" along with dictionaries and lists.\n",
    "\n",
    "Example:\n",
    "\n",
    "Prompt: What would you like to do?\n",
    "> add\n",
    "\n",
    "Prompt: What day?\n",
    "> Friday\n",
    "\n",
    "Prompt: What would you like to add to Friday's to-do list?\n",
    "> practice clarinet\n",
    "\n",
    "Prompt: What would you like to do?\n",
    "> get\n",
    "\n",
    "Prompt: What day?\n",
    "> funday\n",
    "Invalid entry - please enter a correct day of the week (like Monday or monday).\n",
    "\n",
    "Prompt: What day?\n",
    "> friday\n",
    "\n",
    "Response: You have to practice clarinet.\n",
    "\n",
    "Prompt: What would you like to do?\n",
    "> quit\n",
    "\n",
    "Response: Ending program. Thank you for using the to-do list!\n"
   ]
  },
  {
   "cell_type": "code",
   "execution_count": null,
   "metadata": {},
   "outputs": [],
   "source": [
    "# Your code here:"
   ]
  },
  {
   "cell_type": "markdown",
   "metadata": {},
   "source": [
    "### Chinese Zodiac (20 points)¶\n",
    "\n",
    "Write a Python program to display the sign of the Chinese Zodiac for given year in which you were born."
   ]
  },
  {
   "cell_type": "code",
   "execution_count": null,
   "metadata": {},
   "outputs": [],
   "source": [
    "# Your code here: "
   ]
  },
  {
   "cell_type": "markdown",
   "metadata": {},
   "source": [
    "\n",
    "### Fibonacci (20 points)¶\n",
    "\n",
    "The Fibonacci numbers begin with 1, 1. After the first two numbers, each number is the sum of the previous two. 1 + 1 = 2, so 2 is the third number. Then 1 + 2 = 3, so 3 is the next one, and so on. Write a script that prompts the user for an integer number, then prints all the Fibonacci numbers that are less than or equal to the input, in order.\n",
    "\n",
    "Example:\n",
    "\n",
    "Enter a number: 15\n",
    "\n",
    "1 1 2 3 5 8 13\n",
    "\n"
   ]
  },
  {
   "cell_type": "code",
   "execution_count": null,
   "metadata": {},
   "outputs": [],
   "source": [
    "# Your code here: "
   ]
  },
  {
   "cell_type": "markdown",
   "metadata": {},
   "source": [
    "### Extra Credit (15 pts): PEP 8 Style Guide (reading and response)\n",
    "\n",
    "Write a 250 word reading response to the article referenced below. In addition, please list 3 questions that you have from the article (the questions do not count towards the 250 word requirement). Please write your response in the markdown cell below.\n",
    "\n",
    "The writing response is a free response, so you may write about your reactions, such as an interesting thing that you saw in the article, something that really stuck out to you, etc.\n",
    "\n",
    "Article: The PEP 8 Style Guide: https://www.python.org/dev/peps/pep-0008/ This document is really important for Python coders because it describes best practices and customs.\n",
    "\n"
   ]
  },
  {
   "cell_type": "markdown",
   "metadata": {},
   "source": [
    "Your answer here: "
   ]
  }
 ],
 "metadata": {
  "kernelspec": {
   "display_name": "Python 3",
   "language": "python",
   "name": "python3"
  },
  "language_info": {
   "codemirror_mode": {
    "name": "ipython",
    "version": 3
   },
   "file_extension": ".py",
   "mimetype": "text/x-python",
   "name": "python",
   "nbconvert_exporter": "python",
   "pygments_lexer": "ipython3",
   "version": "3.7.6"
  }
 },
 "nbformat": 4,
 "nbformat_minor": 2
}
